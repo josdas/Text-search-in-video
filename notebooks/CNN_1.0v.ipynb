{
 "cells": [
  {
   "cell_type": "code",
   "execution_count": 1,
   "metadata": {},
   "outputs": [
    {
     "name": "stderr",
     "output_type": "stream",
     "text": [
      "--- Logging error ---\n",
      "Traceback (most recent call last):\n",
      "  File \"E:\\WinPython-64bit-3.4.4.1\\python-3.4.4.amd64\\lib\\logging\\__init__.py\", line 978, in emit\n",
      "    msg = self.format(record)\n",
      "  File \"E:\\WinPython-64bit-3.4.4.1\\python-3.4.4.amd64\\lib\\logging\\__init__.py\", line 828, in format\n",
      "    return fmt.format(record)\n",
      "  File \"E:\\WinPython-64bit-3.4.4.1\\python-3.4.4.amd64\\lib\\logging\\__init__.py\", line 573, in format\n",
      "    record.exc_text = self.formatException(record.exc_info)\n",
      "  File \"E:\\WinPython-64bit-3.4.4.1\\python-3.4.4.amd64\\lib\\logging\\__init__.py\", line 523, in formatException\n",
      "    traceback.print_exception(ei[0], ei[1], tb, None, sio)\n",
      "  File \"E:\\WinPython-64bit-3.4.4.1\\python-3.4.4.amd64\\lib\\traceback.py\", line 169, in print_exception\n",
      "    for line in _format_exception_iter(etype, value, tb, limit, chain):\n",
      "  File \"E:\\WinPython-64bit-3.4.4.1\\python-3.4.4.amd64\\lib\\traceback.py\", line 146, in _format_exception_iter\n",
      "    for value, tb in values:\n",
      "  File \"E:\\WinPython-64bit-3.4.4.1\\python-3.4.4.amd64\\lib\\traceback.py\", line 125, in _iter_chain\n",
      "    context = exc.__context__\n",
      "AttributeError: 'NoneType' object has no attribute '__context__'\n",
      "Call stack:\n",
      "  File \"E:\\WinPython-64bit-3.4.4.1\\python-3.4.4.amd64\\lib\\runpy.py\", line 170, in _run_module_as_main\n",
      "    \"__main__\", mod_spec)\n",
      "  File \"E:\\WinPython-64bit-3.4.4.1\\python-3.4.4.amd64\\lib\\runpy.py\", line 85, in _run_code\n",
      "    exec(code, run_globals)\n",
      "  File \"E:\\WinPython-64bit-3.4.4.1\\python-3.4.4.amd64\\lib\\site-packages\\ipykernel\\__main__.py\", line 3, in <module>\n",
      "    app.launch_new_instance()\n",
      "  File \"E:\\WinPython-64bit-3.4.4.1\\python-3.4.4.amd64\\lib\\site-packages\\traitlets\\config\\application.py\", line 589, in launch_instance\n",
      "    app.start()\n",
      "  File \"E:\\WinPython-64bit-3.4.4.1\\python-3.4.4.amd64\\lib\\site-packages\\ipykernel\\kernelapp.py\", line 405, in start\n",
      "    ioloop.IOLoop.instance().start()\n",
      "  File \"E:\\WinPython-64bit-3.4.4.1\\python-3.4.4.amd64\\lib\\site-packages\\zmq\\eventloop\\ioloop.py\", line 162, in start\n",
      "    super(ZMQIOLoop, self).start()\n",
      "  File \"E:\\WinPython-64bit-3.4.4.1\\python-3.4.4.amd64\\lib\\site-packages\\tornado\\ioloop.py\", line 883, in start\n",
      "    handler_func(fd_obj, events)\n",
      "  File \"E:\\WinPython-64bit-3.4.4.1\\python-3.4.4.amd64\\lib\\site-packages\\tornado\\stack_context.py\", line 275, in null_wrapper\n",
      "    return fn(*args, **kwargs)\n",
      "  File \"E:\\WinPython-64bit-3.4.4.1\\python-3.4.4.amd64\\lib\\site-packages\\zmq\\eventloop\\zmqstream.py\", line 440, in _handle_events\n",
      "    self._handle_recv()\n",
      "  File \"E:\\WinPython-64bit-3.4.4.1\\python-3.4.4.amd64\\lib\\site-packages\\zmq\\eventloop\\zmqstream.py\", line 472, in _handle_recv\n",
      "    self._run_callback(callback, msg)\n",
      "  File \"E:\\WinPython-64bit-3.4.4.1\\python-3.4.4.amd64\\lib\\site-packages\\zmq\\eventloop\\zmqstream.py\", line 414, in _run_callback\n",
      "    callback(*args, **kwargs)\n",
      "  File \"E:\\WinPython-64bit-3.4.4.1\\python-3.4.4.amd64\\lib\\site-packages\\tornado\\stack_context.py\", line 275, in null_wrapper\n",
      "    return fn(*args, **kwargs)\n",
      "  File \"E:\\WinPython-64bit-3.4.4.1\\python-3.4.4.amd64\\lib\\site-packages\\ipykernel\\kernelbase.py\", line 260, in dispatcher\n",
      "    return self.dispatch_shell(stream, msg)\n",
      "  File \"E:\\WinPython-64bit-3.4.4.1\\python-3.4.4.amd64\\lib\\site-packages\\ipykernel\\kernelbase.py\", line 212, in dispatch_shell\n",
      "    handler(stream, idents, msg)\n",
      "  File \"E:\\WinPython-64bit-3.4.4.1\\python-3.4.4.amd64\\lib\\site-packages\\ipykernel\\kernelbase.py\", line 370, in execute_request\n",
      "    user_expressions, allow_stdin)\n",
      "  File \"E:\\WinPython-64bit-3.4.4.1\\python-3.4.4.amd64\\lib\\site-packages\\ipykernel\\ipkernel.py\", line 175, in do_execute\n",
      "    shell.run_cell(code, store_history=store_history, silent=silent)\n",
      "  File \"E:\\WinPython-64bit-3.4.4.1\\python-3.4.4.amd64\\lib\\site-packages\\IPython\\core\\interactiveshell.py\", line 2723, in run_cell\n",
      "    interactivity=interactivity, compiler=compiler, result=result)\n",
      "  File \"E:\\WinPython-64bit-3.4.4.1\\python-3.4.4.amd64\\lib\\site-packages\\IPython\\core\\interactiveshell.py\", line 2825, in run_ast_nodes\n",
      "    if self.run_code(code, result):\n",
      "  File \"E:\\WinPython-64bit-3.4.4.1\\python-3.4.4.amd64\\lib\\site-packages\\IPython\\core\\interactiveshell.py\", line 2885, in run_code\n",
      "    exec(code_obj, self.user_global_ns, self.user_ns)\n",
      "  File \"<ipython-input-1-e2e3849b452c>\", line 6, in <module>\n",
      "    import theano.tensor as T\n",
      "  File \"<frozen importlib._bootstrap>\", line 2237, in _find_and_load\n",
      "  File \"<frozen importlib._bootstrap>\", line 2212, in _find_and_load_unlocked\n",
      "  File \"<frozen importlib._bootstrap>\", line 321, in _call_with_frames_removed\n",
      "  File \"<frozen importlib._bootstrap>\", line 2237, in _find_and_load\n",
      "  File \"<frozen importlib._bootstrap>\", line 2226, in _find_and_load_unlocked\n",
      "  File \"<frozen importlib._bootstrap>\", line 1200, in _load_unlocked\n",
      "  File \"<frozen importlib._bootstrap>\", line 1129, in _exec\n",
      "  File \"<frozen importlib._bootstrap>\", line 1471, in exec_module\n",
      "  File \"<frozen importlib._bootstrap>\", line 321, in _call_with_frames_removed\n",
      "  File \"E:\\WinPython-64bit-3.4.4.1\\python-3.4.4.amd64\\lib\\site-packages\\theano\\__init__.py\", line 156, in <module>\n",
      "    import theano.gpuarray\n",
      "  File \"<frozen importlib._bootstrap>\", line 2237, in _find_and_load\n",
      "  File \"<frozen importlib._bootstrap>\", line 2226, in _find_and_load_unlocked\n",
      "  File \"<frozen importlib._bootstrap>\", line 1200, in _load_unlocked\n",
      "  File \"<frozen importlib._bootstrap>\", line 1129, in _exec\n",
      "  File \"<frozen importlib._bootstrap>\", line 1471, in exec_module\n",
      "  File \"<frozen importlib._bootstrap>\", line 321, in _call_with_frames_removed\n",
      "  File \"E:\\WinPython-64bit-3.4.4.1\\python-3.4.4.amd64\\lib\\site-packages\\theano\\gpuarray\\__init__.py\", line 252, in <module>\n",
      "    exc_info=True)\n",
      "Message: 'pygpu was configured but could not be imported or is too old (version 0.7 or higher required)'\n",
      "Arguments: ()\n"
     ]
    }
   ],
   "source": [
    "%matplotlib inline\n",
    "import numpy as np\n",
    "from pycocotools.coco import COCO\n",
    "import skimage.io as io\n",
    "import matplotlib.pyplot as plt\n",
    "import theano.tensor as T\n",
    "import theano\n",
    "import lasagne\n",
    "import lasagne.nonlinearities as nonlin\n",
    "import pylab\n",
    "import pickle\n",
    "import re\n",
    "import os\n",
    "import imageio\n",
    "import time\n",
    "from IPython.display import display, clear_output\n",
    "import PIL\n",
    "\n",
    "from net.vgg16 import build_model, set_weights\n",
    "from net.process import preprocess, resize_img"
   ]
  },
  {
   "cell_type": "code",
   "execution_count": 2,
   "metadata": {},
   "outputs": [
    {
     "name": "stdout",
     "output_type": "stream",
     "text": [
      "loading annotations into memory...\n",
      "Done (t=0.10s)\n",
      "creating index...\n",
      "index created!\n"
     ]
    }
   ],
   "source": [
    "dataDir='annotations_trainval2017'\n",
    "dataType='val2017'\n",
    "annFile='{}/annotations/captions_{}.json'.format(dataDir, dataType)\n",
    "\n",
    "coco=COCO(annFile)"
   ]
  },
  {
   "cell_type": "code",
   "execution_count": 3,
   "metadata": {
    "scrolled": true
   },
   "outputs": [
    {
     "name": "stdout",
     "output_type": "stream",
     "text": [
      "25014\n"
     ]
    },
    {
     "data": {
      "text/plain": [
       "[(541200,\n",
       "  {'caption': 'a glass vase with some flower coming out of it ',\n",
       "   'id': 541200,\n",
       "   'image_id': 159282}),\n",
       " (262135,\n",
       "  {'caption': 'A tennis player is taking a swing on a red court.',\n",
       "   'id': 262135,\n",
       "   'image_id': 551804}),\n",
       " (589821,\n",
       "  {'caption': 'there is a yellow notebook on a black desk ',\n",
       "   'id': 589821,\n",
       "   'image_id': 176446})]"
      ]
     },
     "metadata": {},
     "output_type": "display_data"
    }
   ],
   "source": [
    "print(len(coco.anns))\n",
    "display(list(coco.anns.items())[-3:])"
   ]
  },
  {
   "cell_type": "markdown",
   "metadata": {},
   "source": [
    "# Build and load VGG16"
   ]
  },
  {
   "cell_type": "code",
   "execution_count": 4,
   "metadata": {},
   "outputs": [],
   "source": [
    "def make_network(name='net/vgg16.pkl'):\n",
    "    net = build_model()\n",
    "    net = set_weights(net, name='net/vgg16.pkl')\n",
    "    \n",
    "    input_image = T.tensor4('input')\n",
    "    output_last = lasagne.layers.get_output(net['prob'], input_image)\n",
    "    output_fc8 = lasagne.layers.get_output(net['fc8'], input_image)\n",
    "    output_fc7 = lasagne.layers.get_output(net['fc7'], input_image)\n",
    "    \n",
    "    prob_and_vec = theano.function(\n",
    "        [input_image], \n",
    "        [output_last, output_fc8, output_fc7])\n",
    "    return net, prob_and_vec"
   ]
  },
  {
   "cell_type": "code",
   "execution_count": 5,
   "metadata": {
    "collapsed": true
   },
   "outputs": [],
   "source": [
    "# net, prob_and_vec = make_network()"
   ]
  },
  {
   "cell_type": "markdown",
   "metadata": {},
   "source": [
    "# img2vec"
   ]
  },
  {
   "cell_type": "code",
   "execution_count": 6,
   "metadata": {},
   "outputs": [],
   "source": [
    "from net.imgs import *\n",
    "      \n",
    "# %time imgs_process('annotations_trainval2017/img') # Wall time: 4h 43min 38s"
   ]
  },
  {
   "cell_type": "code",
   "execution_count": 7,
   "metadata": {},
   "outputs": [
    {
     "data": {
      "text/plain": [
       "4991"
      ]
     },
     "metadata": {},
     "output_type": "display_data"
    }
   ],
   "source": [
    "imgs = imgs_load(dataDir)\n",
    "display(len(imgs))"
   ]
  },
  {
   "cell_type": "code",
   "execution_count": 8,
   "metadata": {},
   "outputs": [
    {
     "name": "stdout",
     "output_type": "stream",
     "text": [
      "max = 10.1163502519\n",
      "min = 0.0\n"
     ]
    }
   ],
   "source": [
    "temp = pickle.load(open('annotations_trainval2017\\data\\\\130.data', 'rb'))\n",
    "temp = list(temp.items())\n",
    "print('max =', np.max(temp[10][1][1]))\n",
    "print('min =', np.min(temp[10][1][1]))"
   ]
  },
  {
   "cell_type": "markdown",
   "metadata": {},
   "source": [
    "# texts"
   ]
  },
  {
   "cell_type": "code",
   "execution_count": 9,
   "metadata": {
    "scrolled": true
   },
   "outputs": [],
   "source": [
    "from net.sents_process import *\n",
    "\n",
    "# sents_process(dict_from_anns(coco.anns), 'annotations_trainval2017')"
   ]
  },
  {
   "cell_type": "code",
   "execution_count": 10,
   "metadata": {},
   "outputs": [],
   "source": [
    "anno = sent_load(dataDir)"
   ]
  },
  {
   "cell_type": "code",
   "execution_count": 11,
   "metadata": {},
   "outputs": [],
   "source": [
    "danno = {}\n",
    "for id, v in anno:\n",
    "    danno[id] = danno.get(id, []) + [v]"
   ]
  },
  {
   "cell_type": "code",
   "execution_count": 12,
   "metadata": {
    "scrolled": false
   },
   "outputs": [
    {
     "data": {
      "text/plain": [
       "['Two mean are playing tennis and both are wearing sunglasses.  ',\n",
       " 'a couple of people that are playing in a field',\n",
       " 'A purple and white bus in a parking lot.',\n",
       " 'a tennis player swinging a racket at a ball',\n",
       " 'a person attempting a jump with a skateboard']"
      ]
     },
     "metadata": {},
     "output_type": "display_data"
    }
   ],
   "source": [
    "captions = [text[1]['caption'] for text in coco.anns.items()]\n",
    "display(captions[:5])"
   ]
  },
  {
   "cell_type": "code",
   "execution_count": 13,
   "metadata": {},
   "outputs": [],
   "source": [
    "def mix_text_vec2vec(sent):\n",
    "    only_vec = list(filter(lambda x: not isinstance(x, str), sent))\n",
    "    matr = np.vstack(tuple(only_vec))\n",
    "    return np.concatenate((\n",
    "            np.mean(matr, axis=0), \n",
    "            np.max(matr, axis=0), \n",
    "            np.min(matr, axis=0)))\n",
    "\n",
    "vects = {}\n",
    "for id, val in anno:\n",
    "    vects[id] = vects.get(id, []) + [mix_text_vec2vec(val)]"
   ]
  },
  {
   "cell_type": "markdown",
   "metadata": {},
   "source": [
    "# neural networks"
   ]
  },
  {
   "cell_type": "code",
   "execution_count": 14,
   "metadata": {
    "collapsed": true
   },
   "outputs": [],
   "source": [
    "from net.train import *"
   ]
  },
  {
   "cell_type": "markdown",
   "metadata": {},
   "source": [
    "# CNN"
   ]
  },
  {
   "cell_type": "markdown",
   "metadata": {},
   "source": [
    "Generate X, y"
   ]
  },
  {
   "cell_type": "code",
   "execution_count": 15,
   "metadata": {
    "collapsed": true
   },
   "outputs": [],
   "source": [
    "H = 300\n",
    "W = 14"
   ]
  },
  {
   "cell_type": "code",
   "execution_count": 16,
   "metadata": {},
   "outputs": [
    {
     "name": "stdout",
     "output_type": "stream",
     "text": [
      "23968\n"
     ]
    }
   ],
   "source": [
    "train_size = 23300\n",
    "\n",
    "X, y = [], []\n",
    "for id, data in imgs.items():\n",
    "    while id[0] == '0':\n",
    "        id = id[1:]\n",
    "    try:\n",
    "        for ls in danno[id]:\n",
    "            vects = []\n",
    "            for elem in ls:\n",
    "                if not isinstance(elem, str):\n",
    "                    vects.append(elem)\n",
    "            vects = np.pad(vects, [(0, W), (0, 0)], mode='constant', constant_values=0)[:W].T\n",
    "            X.append([vects])\n",
    "            y.append(data[1])\n",
    "    except:\n",
    "        pass\n",
    "\n",
    "print(len(X))\n",
    "\n",
    "X_train, y_train, X_val, y_val = X[:train_size], y[:train_size], X[train_size:], y[train_size:]"
   ]
  },
  {
   "cell_type": "code",
   "execution_count": 17,
   "metadata": {},
   "outputs": [],
   "source": [
    "#with open('data.net', 'wb') as fl:\n",
    "#    pickle.dump((X_train, y_train, X_val, y_val), fl)"
   ]
  },
  {
   "cell_type": "code",
   "execution_count": null,
   "metadata": {
    "collapsed": true
   },
   "outputs": [],
   "source": [
    "def build_cnn(file_name=None):\n",
    "    net = NeuralNet(must_have=[\n",
    "            'input_shape', \n",
    "            'learning_rate', \n",
    "            'train_fun', \n",
    "            'loss_fun', \n",
    "            'loss_fun_det', \n",
    "            'predict_fun_det'])\n",
    "    \n",
    "    input_shape = [None, H, W]\n",
    "    \n",
    "    input_X = T.tensor3(\"input X\", dtype='float32')\n",
    "    target_y = T.matrix(\"target Y\", dtype='float32')\n",
    "\n",
    "    \n",
    "    net['inp'] = lasagne.layers.InputLayer(input_shape, input_var=input_X)\n",
    "    \n",
    "    net['max'] = lasagne.layers.GlobalPoolLayer(net['inp'], pool_function=theano.tensor.max)\n",
    "    net['min'] = lasagne.layers.GlobalPoolLayer(net['inp'], pool_function=theano.tensor.min)\n",
    "    net['mean'] = lasagne.layers.GlobalPoolLayer(net['inp'], pool_function=theano.tensor.mean)\n",
    "    net['con_1'] = lasagne.layers.Conv1DLayer(net['inp'], num_filters=64, filter_size=2)\n",
    "    \n",
    "    net['gmax'] = lasagne.layers.GlobalPoolLayer(net['con_1'], pool_function=T.max)\n",
    "    \n",
    "    #net['resh'] = lasagne.layers.ReshapeLayer(net['con_1'], shape=([0], -1))\n",
    "    \n",
    "    net['merge'] = lasagne.layers.ConcatLayer((net['max'], net['min'], net['mean'], net['gmax']))\n",
    "    \n",
    "    net['dens'] = lasagne.layers.DenseLayer(net['merge'], num_units=200, nonlinearity=nonlin.leaky_rectify)\n",
    "    \n",
    "    net['last'] = lasagne.layers.DenseLayer(net['dens'], num_units=4096)\n",
    "    \n",
    "    \n",
    "    y_predicted = lasagne.layers.get_output(net['last'])\n",
    "    y_predicted_det = lasagne.layers.get_output(net['last'], deterministic=True)\n",
    "\n",
    "    all_weights = lasagne.layers.get_all_params(net['last'], trainable=True)\n",
    "    \n",
    "    learning_rate = theano.shared(lasagne.utils.floatX(0.001))\n",
    "    loss = lasagne.objectives.squared_error(target_y, y_predicted).mean()\n",
    "    loss_det = lasagne.objectives.squared_error(target_y, y_predicted_det).mean()\n",
    "    \n",
    "    # loss = loss + lasagne.regularization.regularize_layer_params(net['last'], lasagne.regularization.l2) * 0.01\n",
    "    updates = lasagne.updates.adam(loss, all_weights, learning_rate=learning_rate)\n",
    "    \n",
    "    train_fun = theano.function([input_X, target_y], loss, updates=updates, allow_input_downcast=True)\n",
    "    loss_fun = theano.function([input_X, target_y], loss, allow_input_downcast=True)\n",
    "    loss_fun_det = theano.function([input_X, target_y], loss_det, allow_input_downcast=True)\n",
    "    predict_fun_det = theano.function([input_X], y_predicted_det, allow_input_downcast=True)\n",
    "    \n",
    "    if file_name:\n",
    "        load_net(net['last'], file_name, dataDir)\n",
    "        \n",
    "    def proc_vec(v):\n",
    "        res = []\n",
    "        for vv in v:\n",
    "            res.append(vv[0])\n",
    "        return res\n",
    "    \n",
    "    def proc_1(fun):\n",
    "        def temp(v):\n",
    "            v = proc_vec(v)\n",
    "            return fun(v)\n",
    "        return temp\n",
    "\n",
    "    def proc_2(fun):\n",
    "        def temp(v, u):\n",
    "            v = proc_vec(v)\n",
    "            return fun(v, u)\n",
    "\n",
    "        return temp\n",
    "\n",
    "    net.input_shape = input_shape\n",
    "    net.learning_rate = learning_rate\n",
    "    net.train_fun = proc_2(train_fun)\n",
    "    net.loss_fun = proc_2(loss_fun)\n",
    "    net.loss_fun_det = proc_2(loss_fun_det)\n",
    "    net.predict_fun_det = proc_1(predict_fun_det)\n",
    "    \n",
    "    return net.check()"
   ]
  },
  {
   "cell_type": "code",
   "execution_count": null,
   "metadata": {},
   "outputs": [],
   "source": [
    "net = build_cnn('new_vers_2.net')"
   ]
  },
  {
   "cell_type": "code",
   "execution_count": null,
   "metadata": {},
   "outputs": [],
   "source": [
    "for key,val in net.items():\n",
    "    if isinstance(val,lasagne.layers.Layer):\n",
    "        params = val.get_params()\n",
    "        \n",
    "        print (key, val.output_shape, [p.get_value().shape for p in params])"
   ]
  },
  {
   "cell_type": "code",
   "execution_count": null,
   "metadata": {},
   "outputs": [],
   "source": [
    "training_c = Training(net, 40)\n",
    "training_c.set_Xy(X_train, y_train, X_val, y_val)"
   ]
  },
  {
   "cell_type": "code",
   "execution_count": null,
   "metadata": {
    "scrolled": true
   },
   "outputs": [],
   "source": [
    "training_c.training()"
   ]
  },
  {
   "cell_type": "code",
   "execution_count": null,
   "metadata": {
    "collapsed": true
   },
   "outputs": [],
   "source": []
  },
  {
   "cell_type": "code",
   "execution_count": null,
   "metadata": {},
   "outputs": [],
   "source": [
    "save_net(net['last'], 'new_vers_2.net')"
   ]
  },
  {
   "cell_type": "code",
   "execution_count": null,
   "metadata": {
    "collapsed": true
   },
   "outputs": [],
   "source": []
  }
 ],
 "metadata": {
  "kernelspec": {
   "display_name": "Python 3",
   "language": "python",
   "name": "python3"
  },
  "language_info": {
   "codemirror_mode": {
    "name": "ipython",
    "version": 3
   },
   "file_extension": ".py",
   "mimetype": "text/x-python",
   "name": "python",
   "nbconvert_exporter": "python",
   "pygments_lexer": "ipython3",
   "version": "3.6.3"
  }
 },
 "nbformat": 4,
 "nbformat_minor": 1
}
